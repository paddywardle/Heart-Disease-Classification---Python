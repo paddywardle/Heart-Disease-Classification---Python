{
 "cells": [
  {
   "cell_type": "markdown",
   "id": "8c15d727",
   "metadata": {},
   "source": [
    "**1 Project Scoping**"
   ]
  },
  {
   "cell_type": "markdown",
   "id": "7ed9a167",
   "metadata": {},
   "source": [
    "**1.1 Steps:**\n",
    "\n",
    "    1) Load in relevant modules\n",
    "    2) Load in CSV file\n",
    "    3) Visualise different patterns within the data"
   ]
  },
  {
   "cell_type": "code",
   "execution_count": 66,
   "id": "4800187b",
   "metadata": {},
   "outputs": [],
   "source": [
    "import pandas as pd\n",
    "import numpy as np\n",
    "import matplotlib.pyplot as plt\n",
    "import seaborn as sns\n",
    "from sklearn.model_selection import train_test_split\n",
    "from sklearn.linear_model import LogisticRegression\n",
    "from sklearn.tree import DecisionTreeClassifier\n",
    "from sklearn.neighbors import KNeighborsClassifier\n",
    "from sklearn.ensemble import RandomForestClassifier\n",
    "from sklearn.metrics import classification_report\n",
    "from sklearn.metrics import confusion_matrix \n",
    "from sklearn.model_selection import KFold\n",
    "from sklearn.model_selection import cross_val_score\n",
    "from sklearn.preprocessing import StandardScaler"
   ]
  },
  {
   "cell_type": "code",
   "execution_count": 22,
   "id": "19f760f7",
   "metadata": {},
   "outputs": [
    {
     "name": "stdout",
     "output_type": "stream",
     "text": [
      "303\n"
     ]
    },
    {
     "data": {
      "text/html": [
       "<div>\n",
       "<style scoped>\n",
       "    .dataframe tbody tr th:only-of-type {\n",
       "        vertical-align: middle;\n",
       "    }\n",
       "\n",
       "    .dataframe tbody tr th {\n",
       "        vertical-align: top;\n",
       "    }\n",
       "\n",
       "    .dataframe thead th {\n",
       "        text-align: right;\n",
       "    }\n",
       "</style>\n",
       "<table border=\"1\" class=\"dataframe\">\n",
       "  <thead>\n",
       "    <tr style=\"text-align: right;\">\n",
       "      <th></th>\n",
       "      <th>age</th>\n",
       "      <th>sex</th>\n",
       "      <th>cp</th>\n",
       "      <th>trestbps</th>\n",
       "      <th>chol</th>\n",
       "      <th>fbs</th>\n",
       "      <th>restecg</th>\n",
       "      <th>thalach</th>\n",
       "      <th>exang</th>\n",
       "      <th>oldpeak</th>\n",
       "      <th>slope</th>\n",
       "      <th>ca</th>\n",
       "      <th>thal</th>\n",
       "      <th>target</th>\n",
       "    </tr>\n",
       "  </thead>\n",
       "  <tbody>\n",
       "    <tr>\n",
       "      <th>0</th>\n",
       "      <td>63</td>\n",
       "      <td>1</td>\n",
       "      <td>3</td>\n",
       "      <td>145</td>\n",
       "      <td>233</td>\n",
       "      <td>1</td>\n",
       "      <td>0</td>\n",
       "      <td>150</td>\n",
       "      <td>0</td>\n",
       "      <td>2.3</td>\n",
       "      <td>0</td>\n",
       "      <td>0</td>\n",
       "      <td>1</td>\n",
       "      <td>1</td>\n",
       "    </tr>\n",
       "    <tr>\n",
       "      <th>1</th>\n",
       "      <td>37</td>\n",
       "      <td>1</td>\n",
       "      <td>2</td>\n",
       "      <td>130</td>\n",
       "      <td>250</td>\n",
       "      <td>0</td>\n",
       "      <td>1</td>\n",
       "      <td>187</td>\n",
       "      <td>0</td>\n",
       "      <td>3.5</td>\n",
       "      <td>0</td>\n",
       "      <td>0</td>\n",
       "      <td>2</td>\n",
       "      <td>1</td>\n",
       "    </tr>\n",
       "    <tr>\n",
       "      <th>2</th>\n",
       "      <td>41</td>\n",
       "      <td>0</td>\n",
       "      <td>1</td>\n",
       "      <td>130</td>\n",
       "      <td>204</td>\n",
       "      <td>0</td>\n",
       "      <td>0</td>\n",
       "      <td>172</td>\n",
       "      <td>0</td>\n",
       "      <td>1.4</td>\n",
       "      <td>2</td>\n",
       "      <td>0</td>\n",
       "      <td>2</td>\n",
       "      <td>1</td>\n",
       "    </tr>\n",
       "    <tr>\n",
       "      <th>3</th>\n",
       "      <td>56</td>\n",
       "      <td>1</td>\n",
       "      <td>1</td>\n",
       "      <td>120</td>\n",
       "      <td>236</td>\n",
       "      <td>0</td>\n",
       "      <td>1</td>\n",
       "      <td>178</td>\n",
       "      <td>0</td>\n",
       "      <td>0.8</td>\n",
       "      <td>2</td>\n",
       "      <td>0</td>\n",
       "      <td>2</td>\n",
       "      <td>1</td>\n",
       "    </tr>\n",
       "    <tr>\n",
       "      <th>4</th>\n",
       "      <td>57</td>\n",
       "      <td>0</td>\n",
       "      <td>0</td>\n",
       "      <td>120</td>\n",
       "      <td>354</td>\n",
       "      <td>0</td>\n",
       "      <td>1</td>\n",
       "      <td>163</td>\n",
       "      <td>1</td>\n",
       "      <td>0.6</td>\n",
       "      <td>2</td>\n",
       "      <td>0</td>\n",
       "      <td>2</td>\n",
       "      <td>1</td>\n",
       "    </tr>\n",
       "    <tr>\n",
       "      <th>...</th>\n",
       "      <td>...</td>\n",
       "      <td>...</td>\n",
       "      <td>...</td>\n",
       "      <td>...</td>\n",
       "      <td>...</td>\n",
       "      <td>...</td>\n",
       "      <td>...</td>\n",
       "      <td>...</td>\n",
       "      <td>...</td>\n",
       "      <td>...</td>\n",
       "      <td>...</td>\n",
       "      <td>...</td>\n",
       "      <td>...</td>\n",
       "      <td>...</td>\n",
       "    </tr>\n",
       "    <tr>\n",
       "      <th>298</th>\n",
       "      <td>57</td>\n",
       "      <td>0</td>\n",
       "      <td>0</td>\n",
       "      <td>140</td>\n",
       "      <td>241</td>\n",
       "      <td>0</td>\n",
       "      <td>1</td>\n",
       "      <td>123</td>\n",
       "      <td>1</td>\n",
       "      <td>0.2</td>\n",
       "      <td>1</td>\n",
       "      <td>0</td>\n",
       "      <td>3</td>\n",
       "      <td>0</td>\n",
       "    </tr>\n",
       "    <tr>\n",
       "      <th>299</th>\n",
       "      <td>45</td>\n",
       "      <td>1</td>\n",
       "      <td>3</td>\n",
       "      <td>110</td>\n",
       "      <td>264</td>\n",
       "      <td>0</td>\n",
       "      <td>1</td>\n",
       "      <td>132</td>\n",
       "      <td>0</td>\n",
       "      <td>1.2</td>\n",
       "      <td>1</td>\n",
       "      <td>0</td>\n",
       "      <td>3</td>\n",
       "      <td>0</td>\n",
       "    </tr>\n",
       "    <tr>\n",
       "      <th>300</th>\n",
       "      <td>68</td>\n",
       "      <td>1</td>\n",
       "      <td>0</td>\n",
       "      <td>144</td>\n",
       "      <td>193</td>\n",
       "      <td>1</td>\n",
       "      <td>1</td>\n",
       "      <td>141</td>\n",
       "      <td>0</td>\n",
       "      <td>3.4</td>\n",
       "      <td>1</td>\n",
       "      <td>2</td>\n",
       "      <td>3</td>\n",
       "      <td>0</td>\n",
       "    </tr>\n",
       "    <tr>\n",
       "      <th>301</th>\n",
       "      <td>57</td>\n",
       "      <td>1</td>\n",
       "      <td>0</td>\n",
       "      <td>130</td>\n",
       "      <td>131</td>\n",
       "      <td>0</td>\n",
       "      <td>1</td>\n",
       "      <td>115</td>\n",
       "      <td>1</td>\n",
       "      <td>1.2</td>\n",
       "      <td>1</td>\n",
       "      <td>1</td>\n",
       "      <td>3</td>\n",
       "      <td>0</td>\n",
       "    </tr>\n",
       "    <tr>\n",
       "      <th>302</th>\n",
       "      <td>57</td>\n",
       "      <td>0</td>\n",
       "      <td>1</td>\n",
       "      <td>130</td>\n",
       "      <td>236</td>\n",
       "      <td>0</td>\n",
       "      <td>0</td>\n",
       "      <td>174</td>\n",
       "      <td>0</td>\n",
       "      <td>0.0</td>\n",
       "      <td>1</td>\n",
       "      <td>1</td>\n",
       "      <td>2</td>\n",
       "      <td>0</td>\n",
       "    </tr>\n",
       "  </tbody>\n",
       "</table>\n",
       "<p>301 rows × 14 columns</p>\n",
       "</div>"
      ],
      "text/plain": [
       "     age  sex  cp  trestbps  chol  fbs  restecg  thalach  exang  oldpeak  \\\n",
       "0     63    1   3       145   233    1        0      150      0      2.3   \n",
       "1     37    1   2       130   250    0        1      187      0      3.5   \n",
       "2     41    0   1       130   204    0        0      172      0      1.4   \n",
       "3     56    1   1       120   236    0        1      178      0      0.8   \n",
       "4     57    0   0       120   354    0        1      163      1      0.6   \n",
       "..   ...  ...  ..       ...   ...  ...      ...      ...    ...      ...   \n",
       "298   57    0   0       140   241    0        1      123      1      0.2   \n",
       "299   45    1   3       110   264    0        1      132      0      1.2   \n",
       "300   68    1   0       144   193    1        1      141      0      3.4   \n",
       "301   57    1   0       130   131    0        1      115      1      1.2   \n",
       "302   57    0   1       130   236    0        0      174      0      0.0   \n",
       "\n",
       "     slope  ca  thal  target  \n",
       "0        0   0     1       1  \n",
       "1        0   0     2       1  \n",
       "2        2   0     2       1  \n",
       "3        2   0     2       1  \n",
       "4        2   0     2       1  \n",
       "..     ...  ..   ...     ...  \n",
       "298      1   0     3       0  \n",
       "299      1   0     3       0  \n",
       "300      1   2     3       0  \n",
       "301      1   1     3       0  \n",
       "302      1   1     2       0  \n",
       "\n",
       "[301 rows x 14 columns]"
      ]
     },
     "execution_count": 22,
     "metadata": {},
     "output_type": "execute_result"
    }
   ],
   "source": [
    "df = pd.read_csv('heart.csv')\n",
    "print(len(df))\n",
    "df2 = df[df.thal != 0] # 0 values in thal represent NaNs so need to get rid of them\n",
    "df2"
   ]
  },
  {
   "cell_type": "markdown",
   "id": "5bd68ff1",
   "metadata": {},
   "source": [
    "**Data contains;**\n",
    "\n",
    "    age - age in years\n",
    "    sex - (1 = male; 0 = female)\n",
    "    cp - chest pain type\n",
    "    trestbps - resting blood pressure (in mm Hg on admission to the hospital)\n",
    "    chol - serum cholestoral in mg/dl\n",
    "    fbs - (fasting blood sugar > 120 mg/dl) (1 = true; 0 = false)\n",
    "    restecg - resting electrocardiographic results\n",
    "    thalach - maximum heart rate achieved\n",
    "    exang - exercise induced angina (1 = yes; 0 = no)\n",
    "    oldpeak - ST depression induced by exercise relative to rest\n",
    "    slope - the slope of the peak exercise ST segment\n",
    "    ca - number of major vessels (0-3) colored by flourosopy\n",
    "    thal - 3 = normal; 6 = fixed defect; 7 = reversable defect\n",
    "    target - have disease or not (0 = disease, 1 = no disease)"
   ]
  },
  {
   "cell_type": "code",
   "execution_count": 25,
   "id": "bd2ebd9f",
   "metadata": {},
   "outputs": [
    {
     "data": {
      "text/plain": [
       "Index(['age', 'sex', 'cp', 'trestbps', 'chol', 'fbs', 'restecg', 'thalach',\n",
       "       'exang', 'oldpeak', 'slope', 'ca', 'thal', 'target'],\n",
       "      dtype='object')"
      ]
     },
     "execution_count": 25,
     "metadata": {},
     "output_type": "execute_result"
    }
   ],
   "source": [
    "df2.columns"
   ]
  },
  {
   "cell_type": "code",
   "execution_count": 26,
   "id": "e538335c",
   "metadata": {},
   "outputs": [
    {
     "data": {
      "text/plain": [
       "1    164\n",
       "0    137\n",
       "Name: target, dtype: int64"
      ]
     },
     "execution_count": 26,
     "metadata": {},
     "output_type": "execute_result"
    }
   ],
   "source": [
    "df2.target.value_counts()"
   ]
  },
  {
   "cell_type": "markdown",
   "id": "4ef77196",
   "metadata": {},
   "source": [
    "**2 Visualising Data**"
   ]
  },
  {
   "cell_type": "markdown",
   "id": "20cce313",
   "metadata": {},
   "source": [
    "**2.1 Setting Palette**"
   ]
  },
  {
   "cell_type": "code",
   "execution_count": 5,
   "id": "e841761c",
   "metadata": {},
   "outputs": [],
   "source": [
    "sns.set_palette('Set2')"
   ]
  },
  {
   "cell_type": "markdown",
   "id": "f9b3fd26",
   "metadata": {},
   "source": [
    "**2.2 Target Visualisations**"
   ]
  },
  {
   "cell_type": "code",
   "execution_count": 51,
   "id": "eb121d00",
   "metadata": {},
   "outputs": [
    {
     "data": {
      "text/plain": [
       "Text(0.5, 1.0, 'Heart disease count')"
      ]
     },
     "execution_count": 51,
     "metadata": {},
     "output_type": "execute_result"
    },
    {
     "data": {
      "image/png": "[encoded data removed]",
      "text/plain": [
       "<Figure size 432x288 with 1 Axes>"
      ]
     },
     "metadata": {
      "needs_background": "light"
     },
     "output_type": "display_data"
    }
   ],
   "source": [
    "ax = plt.subplot()\n",
    "sns.countplot(data=df2, x='target')\n",
    "ax.set_xticklabels(['Heart Disease', 'No Heart Disease'])\n",
    "plt.title('Heart disease count')"
   ]
  },
  {
   "cell_type": "code",
   "execution_count": 28,
   "id": "25a7eee6",
   "metadata": {},
   "outputs": [
    {
     "data": {
      "text/plain": [
       "Text(0.5, 1.0, 'Heart disease count by sex')"
      ]
     },
     "execution_count": 28,
     "metadata": {},
     "output_type": "execute_result"
    },
    {
     "data": {
      "image/png": "[encoded data removed]",
      "text/plain": [
       "<Figure size 432x288 with 1 Axes>"
      ]
     },
     "metadata": {
      "needs_background": "light"
     },
     "output_type": "display_data"
    }
   ],
   "source": [
    "ax = plt.subplot()\n",
    "sns.countplot(data=df2, x='target', hue='sex')\n",
    "ax.set_xticklabels(['Heart Disease', 'No Heart Disease'])\n",
    "plt.legend(['Female', 'Male'])\n",
    "plt.title('Heart disease count by sex')"
   ]
  },
  {
   "cell_type": "code",
   "execution_count": 29,
   "id": "0b119564",
   "metadata": {},
   "outputs": [
    {
     "data": {
      "text/plain": [
       "Text(0.5, 1.0, 'Heart disease count by chest pain type')"
      ]
     },
     "execution_count": 29,
     "metadata": {},
     "output_type": "execute_result"
    },
    {
     "data": {
      "image/png": "[encoded data removed]",
      "text/plain": [
       "<Figure size 432x288 with 1 Axes>"
      ]
     },
     "metadata": {
      "needs_background": "light"
     },
     "output_type": "display_data"
    }
   ],
   "source": [
    "ax = plt.subplot()\n",
    "sns.countplot(data=df2, x='target', hue='cp')\n",
    "ax.set_xticklabels(['Heart Disease', 'No Heart Disease'])\n",
    "plt.legend(['asymptomatic', 'atypical angina', 'non-anginal pain', 'typical angina'])\n",
    "plt.title('Heart disease count by chest pain type')"
   ]
  },
  {
   "cell_type": "code",
   "execution_count": 31,
   "id": "37a4a4ee",
   "metadata": {},
   "outputs": [
    {
     "data": {
      "text/plain": [
       "Text(0.5, 1.0, 'Heart disease count by thal')"
      ]
     },
     "execution_count": 31,
     "metadata": {},
     "output_type": "execute_result"
    },
    {
     "data": {
      "image/png": "[encoded data removed]",
      "text/plain": [
       "<Figure size 432x288 with 1 Axes>"
      ]
     },
     "metadata": {
      "needs_background": "light"
     },
     "output_type": "display_data"
    }
   ],
   "source": [
    "ax = plt.subplot()\n",
    "sns.countplot(data=df2, x='target', hue='thal')\n",
    "ax.set_xticklabels(['Heart Disease', 'No Heart Disease'])\n",
    "plt.legend(['Fixed Defect', 'Normal', 'Reversable Defect'])\n",
    "plt.title('Heart disease count by thal')"
   ]
  },
  {
   "cell_type": "code",
   "execution_count": 33,
   "id": "48fb081b",
   "metadata": {},
   "outputs": [
    {
     "data": {
      "text/plain": [
       "Text(0.5, 1.0, 'Heart disease count by resting electrocardiographic results')"
      ]
     },
     "execution_count": 33,
     "metadata": {},
     "output_type": "execute_result"
    },
    {
     "data": {
      "image/png": "[encoded data removed]",
      "text/plain": [
       "<Figure size 432x288 with 1 Axes>"
      ]
     },
     "metadata": {
      "needs_background": "light"
     },
     "output_type": "display_data"
    }
   ],
   "source": [
    "ax = plt.subplot()\n",
    "sns.countplot(data=df2, x='target', hue='restecg')\n",
    "ax.set_xticklabels(['Heart Disease', 'No Heart Disease'])\n",
    "plt.legend(['left ventricular hypertrophy', 'normal', 'ST-T wave abnormality'])\n",
    "plt.title('Heart disease count by resting electrocardiographic results')"
   ]
  },
  {
   "cell_type": "code",
   "execution_count": 34,
   "id": "7d6c579b",
   "metadata": {},
   "outputs": [
    {
     "data": {
      "text/plain": [
       "Text(0.5, 1.0, 'Heart disease count by exercised induced angina')"
      ]
     },
     "execution_count": 34,
     "metadata": {},
     "output_type": "execute_result"
    },
    {
     "data": {
      "image/png": "[encoded data removed]",
      "text/plain": [
       "<Figure size 432x288 with 1 Axes>"
      ]
     },
     "metadata": {
      "needs_background": "light"
     },
     "output_type": "display_data"
    }
   ],
   "source": [
    "ax = plt.subplot()\n",
    "sns.countplot(data=df2, x='target', hue='exang')\n",
    "ax.set_xticklabels(['Heart Disease', 'No Heart Disease'])\n",
    "plt.legend(['No exercise induced angina', 'Exercise induced angina'])\n",
    "plt.title('Heart disease count by exercised induced angina')"
   ]
  },
  {
   "cell_type": "code",
   "execution_count": 61,
   "id": "cfdab713",
   "metadata": {},
   "outputs": [
    {
     "data": {
      "text/plain": [
       "Text(0.5, 1.0, 'Heart disease count by fasting blood sugar')"
      ]
     },
     "execution_count": 61,
     "metadata": {},
     "output_type": "execute_result"
    },
    {
     "data": {
      "image/png": "[encoded data removed]",
      "text/plain": [
       "<Figure size 432x288 with 1 Axes>"
      ]
     },
     "metadata": {
      "needs_background": "light"
     },
     "output_type": "display_data"
    }
   ],
   "source": [
    "ax = plt.subplot()\n",
    "sns.countplot(data=df2, x='target', hue='fbs')\n",
    "ax.set_xticklabels(['Heart Disease', 'No Heart Disease'])\n",
    "plt.legend(['< 120 mg/dl', '> 120 mg/dl'])\n",
    "plt.title('Heart disease count by fasting blood sugar')"
   ]
  },
  {
   "cell_type": "code",
   "execution_count": 56,
   "id": "5e628947",
   "metadata": {},
   "outputs": [
    {
     "name": "stdout",
     "output_type": "stream",
     "text": [
      "The mean age for people without heart disease is 52.49390243902439\n"
     ]
    },
    {
     "data": {
      "image/png": "[encoded data removed]",
      "text/plain": [
       "<Figure size 432x288 with 1 Axes>"
      ]
     },
     "metadata": {
      "needs_background": "light"
     },
     "output_type": "display_data"
    }
   ],
   "source": [
    "ax = plt.subplot()\n",
    "data = df2[df2.target == 1] # Data of people without heart disease\n",
    "sns.histplot(data=data, x='trestbps')\n",
    "plt.xlabel('Age')\n",
    "plt.title('Distribution of age for people without heart disease')\n",
    "print(f'The mean age for people without heart disease is {np.mean(data.age)}')"
   ]
  },
  {
   "cell_type": "markdown",
   "id": "177d4f23",
   "metadata": {},
   "source": [
    "The average age for people without heart disease is lower"
   ]
  },
  {
   "cell_type": "code",
   "execution_count": 57,
   "id": "d5e7b7bb",
   "metadata": {},
   "outputs": [
    {
     "name": "stdout",
     "output_type": "stream",
     "text": [
      "The mean age for people with heart disease is 56.63503649635037\n"
     ]
    },
    {
     "data": {
      "image/png": "[encoded data removed]",
      "text/plain": [
       "<Figure size 432x288 with 1 Axes>"
      ]
     },
     "metadata": {
      "needs_background": "light"
     },
     "output_type": "display_data"
    }
   ],
   "source": [
    "ax = plt.subplot()\n",
    "data = df2[df2.target == 0] # Data of people with heart disease\n",
    "sns.histplot(data=data, x='trestbps')\n",
    "plt.xlabel('Age')\n",
    "plt.title('Distribution of age for people with heart disease')\n",
    "print(f'The mean age for people with heart disease is {np.mean(data.age)}')"
   ]
  },
  {
   "cell_type": "markdown",
   "id": "40b5f1f1",
   "metadata": {},
   "source": [
    "The average age for people with heart disease is higher"
   ]
  },
  {
   "cell_type": "code",
   "execution_count": 55,
   "id": "d07acfa1",
   "metadata": {},
   "outputs": [
    {
     "name": "stdout",
     "output_type": "stream",
     "text": [
      "The mean resting blood pressure for people without heart disease is 129.3109756097561 mmHg\n"
     ]
    },
    {
     "data": {
      "image/png": "[encoded data removed]",
      "text/plain": [
       "<Figure size 432x288 with 1 Axes>"
      ]
     },
     "metadata": {
      "needs_background": "light"
     },
     "output_type": "display_data"
    }
   ],
   "source": [
    "ax = plt.subplot()\n",
    "data = df2[df2.target == 1] # Data of people without heart disease\n",
    "sns.histplot(data=data, x='trestbps')\n",
    "plt.xlabel('Resting blood pressure (mmHg)')\n",
    "plt.title('Distribution of resting heart rate on admission to a hospital for people without heart disease')\n",
    "print(f'The mean resting blood pressure for people without heart disease is {np.mean(data.trestbps)} mmHg')"
   ]
  },
  {
   "cell_type": "markdown",
   "id": "9e8734b7",
   "metadata": {},
   "source": [
    "People without heart disease have a lower mean blood pressure and also seems to be bimodal with a sligthly right skew."
   ]
  },
  {
   "cell_type": "code",
   "execution_count": 53,
   "id": "7809379d",
   "metadata": {},
   "outputs": [
    {
     "name": "stdout",
     "output_type": "stream",
     "text": [
      "The mean resting blood pressure for people with heart disease is 134.44525547445255 mmHg\n"
     ]
    },
    {
     "data": {
      "image/png": "[encoded data removed]",
      "text/plain": [
       "<Figure size 432x288 with 1 Axes>"
      ]
     },
     "metadata": {
      "needs_background": "light"
     },
     "output_type": "display_data"
    }
   ],
   "source": [
    "ax = plt.subplot()\n",
    "data = df2[df2.target == 0] # Data of people with heart disease\n",
    "sns.histplot(data=data, x='trestbps')\n",
    "plt.xlabel('Resting blood pressure (mmHg)')\n",
    "plt.title('Distribution of resting heart rate on admission to a hospital for people with heart disease')\n",
    "print(f'The mean resting blood pressure for people with heart disease is {np.mean(data.trestbps)} mmHg')"
   ]
  },
  {
   "cell_type": "markdown",
   "id": "a0038f28",
   "metadata": {},
   "source": [
    "People with heart disease have a higher mean blood pressure and the data is also right skewed."
   ]
  },
  {
   "cell_type": "code",
   "execution_count": 59,
   "id": "1668f6a7",
   "metadata": {},
   "outputs": [
    {
     "name": "stdout",
     "output_type": "stream",
     "text": [
      "The mean serum cholestoral for people without heart disease is 242.390243902439 mg/dl\n"
     ]
    },
    {
     "data": {
      "image/png": "[encoded data removed]",
      "text/plain": [
       "<Figure size 432x288 with 1 Axes>"
      ]
     },
     "metadata": {
      "needs_background": "light"
     },
     "output_type": "display_data"
    }
   ],
   "source": [
    "ax = plt.subplot()\n",
    "data = df2[df2.target == 1] # Data of people without heart disease\n",
    "sns.histplot(data=data, x='chol')\n",
    "plt.xlabel('Serum cholestoral (mg/dl)')\n",
    "plt.title('Distribution of serum cholestoral for people without heart disease')\n",
    "print(f'The mean serum cholestoral for people without heart disease is {np.mean(data.chol)} mg/dl')"
   ]
  },
  {
   "cell_type": "markdown",
   "id": "15d425cc",
   "metadata": {},
   "source": [
    "The average serum cholestoral for people without heart disease is lower."
   ]
  },
  {
   "cell_type": "code",
   "execution_count": 60,
   "id": "9e1b9611",
   "metadata": {},
   "outputs": [
    {
     "name": "stdout",
     "output_type": "stream",
     "text": [
      "The mean serum cholestoral for people with heart disease is 251.43065693430657 mg/dl\n"
     ]
    },
    {
     "data": {
      "image/png": "[encoded data removed]",
      "text/plain": [
       "<Figure size 432x288 with 1 Axes>"
      ]
     },
     "metadata": {
      "needs_background": "light"
     },
     "output_type": "display_data"
    }
   ],
   "source": [
    "ax = plt.subplot()\n",
    "data = df2[df2.target == 0] # Data of people with heart disease\n",
    "sns.histplot(data=data, x='chol')\n",
    "plt.xlabel('Serum cholestoral (mg/dl)')\n",
    "plt.title('Distribution of serum cholestoral for people with heart disease')\n",
    "print(f'The mean serum cholestoral for people with heart disease is {np.mean(data.chol)} mg/dl')"
   ]
  },
  {
   "cell_type": "markdown",
   "id": "4e7393d1",
   "metadata": {},
   "source": [
    "The average serum cholestoral for people with heart disease is higher."
   ]
  },
  {
   "cell_type": "code",
   "execution_count": 62,
   "id": "4628e3b0",
   "metadata": {},
   "outputs": [
    {
     "name": "stdout",
     "output_type": "stream",
     "text": [
      "The mean maximum heart rate for people without heart disease is 158.73170731707316\n"
     ]
    },
    {
     "data": {
      "image/png": "[encoded data removed]",
      "text/plain": [
       "<Figure size 432x288 with 1 Axes>"
      ]
     },
     "metadata": {
      "needs_background": "light"
     },
     "output_type": "display_data"
    }
   ],
   "source": [
    "ax = plt.subplot()\n",
    "data = df2[df2.target == 1] # Data of people without heart disease\n",
    "sns.histplot(data=data, x='thalach')\n",
    "plt.xlabel('Maximum heart rate achieved')\n",
    "plt.title('Distribution of maximum heart rate achieved for people without heart disease')\n",
    "print(f'The mean maximum heart rate for people without heart disease is {np.mean(data.thalach)}')"
   ]
  },
  {
   "cell_type": "code",
   "execution_count": 63,
   "id": "93378d70",
   "metadata": {},
   "outputs": [
    {
     "name": "stdout",
     "output_type": "stream",
     "text": [
      "The mean maximum heart rate for people with heart disease is 138.97810218978103\n"
     ]
    },
    {
     "data": {
      "image/png": "[encoded data removed]",
      "text/plain": [
       "<Figure size 432x288 with 1 Axes>"
      ]
     },
     "metadata": {
      "needs_background": "light"
     },
     "output_type": "display_data"
    }
   ],
   "source": [
    "ax = plt.subplot()\n",
    "data = df2[df2.target == 0] # Data of people with heart disease\n",
    "sns.histplot(data=data, x='thalach')\n",
    "plt.xlabel('Maximum heart rate achieved')\n",
    "plt.title('Distribution of maximum heart rate achieved for people with heart disease')\n",
    "print(f'The mean maximum heart rate for people with heart disease is {np.mean(data.thalach)}')"
   ]
  },
  {
   "cell_type": "markdown",
   "id": "b123ac89",
   "metadata": {},
   "source": [
    "People with heart diease had a lower maximum heart rate than those without heart disease. This is because we are not taking into account the age, and the maximum heart rate that a person can achieve without several problems is relative to age, so the higher beats per minute correspond to younger people, thus they are less likely to have a heart disease."
   ]
  },
  {
   "cell_type": "markdown",
   "id": "463a5c81",
   "metadata": {},
   "source": [
    "**2.3 Sex**"
   ]
  },
  {
   "cell_type": "code",
   "execution_count": 64,
   "id": "fdbbfb07",
   "metadata": {},
   "outputs": [
    {
     "data": {
      "text/plain": [
       "Text(0.5, 1.0, 'Gender counts')"
      ]
     },
     "execution_count": 64,
     "metadata": {},
     "output_type": "execute_result"
    },
    {
     "data": {
      "image/png": "[encoded data removed]",
      "text/plain": [
       "<Figure size 432x288 with 1 Axes>"
      ]
     },
     "metadata": {
      "needs_background": "light"
     },
     "output_type": "display_data"
    }
   ],
   "source": [
    "ax = plt.subplot()\n",
    "sns.countplot(data=df2, x='sex')\n",
    "ax.set_xticklabels(['Female', 'Male'])\n",
    "plt.title('Gender counts')"
   ]
  },
  {
   "cell_type": "markdown",
   "id": "1483e0ad",
   "metadata": {},
   "source": [
    "**3 Preprocessing data**\n",
    "\n",
    "- First the we need to get the features that we want to feed into the machine learning algorithms\n",
    "- Then we need to normalise the data so that it is all of the same scale\n",
    "- Next we need to split the data into training and test sets."
   ]
  },
  {
   "cell_type": "code",
   "execution_count": 67,
   "id": "2e85591f",
   "metadata": {},
   "outputs": [],
   "source": [
    "ML_features = df2[['age', 'sex', 'cp', 'trestbps', 'fbs', 'restecg', 'thalach', 'exang', 'thal']]\n",
    "ML_labels = df2['target']"
   ]
  },
  {
   "cell_type": "code",
   "execution_count": 71,
   "id": "1437b5fc",
   "metadata": {},
   "outputs": [],
   "source": [
    "scaler = StandardScaler()\n",
    "normalised_features = scaler.fit_transform(ML_features)"
   ]
  },
  {
   "cell_type": "code",
   "execution_count": 72,
   "id": "711efb2b",
   "metadata": {},
   "outputs": [],
   "source": [
    "train_data, test_data, train_labels, test_labels = train_test_split(normalised_features, ML_labels, train_size=0.8, test_size=0.2, random_state=6)"
   ]
  },
  {
   "cell_type": "markdown",
   "id": "b5c01104",
   "metadata": {},
   "source": [
    "**4 Machine Learning Algorithms**"
   ]
  },
  {
   "cell_type": "markdown",
   "id": "bbc62762",
   "metadata": {},
   "source": [
    "**4.1 Logistic Regression**"
   ]
  },
  {
   "cell_type": "code",
   "execution_count": 134,
   "id": "223326a4",
   "metadata": {},
   "outputs": [
    {
     "name": "stdout",
     "output_type": "stream",
     "text": [
      "              precision    recall  f1-score   support\n",
      "\n",
      "           0       0.81      0.68      0.74        31\n",
      "           1       0.71      0.83      0.77        30\n",
      "\n",
      "    accuracy                           0.75        61\n",
      "   macro avg       0.76      0.76      0.75        61\n",
      "weighted avg       0.76      0.75      0.75        61\n",
      "\n",
      "The score for the logistic regression algorithm is 0.7540983606557377\n"
     ]
    }
   ],
   "source": [
    "LR_model = LogisticRegression()\n",
    "LR_model.fit(train_data, train_labels)\n",
    "predictions = LR_model.predict(test_data)\n",
    "print(classification_report(test_labels, predictions))\n",
    "print(f'The score for the logistic regression algorithm is {LR_model.score(test_data, test_labels)}')"
   ]
  },
  {
   "cell_type": "code",
   "execution_count": 117,
   "id": "104a1b9f",
   "metadata": {},
   "outputs": [
    {
     "data": {
      "image/png": "[encoded data removed]",
      "text/plain": [
       "<Figure size 720x504 with 2 Axes>"
      ]
     },
     "metadata": {
      "needs_background": "light"
     },
     "output_type": "display_data"
    }
   ],
   "source": [
    "test_predictions = LR_model.predict(test_data)\n",
    "\n",
    "LR_cm = confusion_matrix(test_labels, test_predictions)\n",
    "\n",
    "labels = LR_model.classes_\n",
    "\n",
    "plt.figure(figsize=(10,7))\n",
    "\n",
    "ax = plt.subplot()\n",
    "\n",
    "sns.heatmap(LR_cm, annot=True, ax=ax, fmt='d')\n",
    "\n",
    "ax.set_xlabel('Predicted labels')\n",
    "ax.set_ylabel('True labels')\n",
    "ax.set_title('Decision Tree Confusion Matrix For LR model')\n",
    "\n",
    "ax.yaxis.set_tick_params(rotation=360)\n",
    "\n",
    "ax.set_xticklabels(['Heart Disease', 'No Heart Disease'])\n",
    "ax.set_yticklabels(['Heart Disease', 'No Heart Disease'])\n",
    "\n",
    "plt.show()"
   ]
  },
  {
   "cell_type": "markdown",
   "id": "f3dd7eb6",
   "metadata": {},
   "source": [
    "Due to the binary nature of the data this heat map is not a great visualisation but it shows how many pieces of data in the test set were correctly predicted."
   ]
  },
  {
   "cell_type": "markdown",
   "id": "290d9f54",
   "metadata": {},
   "source": [
    "**4.2 K Nearest Neighbour**"
   ]
  },
  {
   "cell_type": "code",
   "execution_count": 122,
   "id": "b2d1e569",
   "metadata": {},
   "outputs": [
    {
     "name": "stdout",
     "output_type": "stream",
     "text": [
      "              precision    recall  f1-score   support\n",
      "\n",
      "           0       0.86      0.61      0.72        31\n",
      "           1       0.69      0.90      0.78        30\n",
      "\n",
      "    accuracy                           0.75        61\n",
      "   macro avg       0.78      0.76      0.75        61\n",
      "weighted avg       0.78      0.75      0.75        61\n",
      "\n",
      "The score for the K nearest neighbours algorithm is 0.7540983606557377\n"
     ]
    }
   ],
   "source": [
    "# KNN_model with default neighbours\n",
    "KNN_model = KNeighborsClassifier() \n",
    "KNN_model.fit(train_data, train_labels)\n",
    "predictions = KNN_model.predict(test_data)\n",
    "print(classification_report(test_labels, predictions))\n",
    "print(f'The score for the K nearest neighbours algorithm is {KNN_model.score(test_data, test_labels)}')"
   ]
  },
  {
   "cell_type": "code",
   "execution_count": 123,
   "id": "42b259eb",
   "metadata": {},
   "outputs": [
    {
     "data": {
      "text/plain": [
       "Text(0.5, 1.0, 'The change in algorithm score as the number of neighbours was changed')"
      ]
     },
     "execution_count": 123,
     "metadata": {},
     "output_type": "execute_result"
    },
    {
     "data": {
      "image/png": "[encoded data removed]",
      "text/plain": [
       "<Figure size 432x288 with 1 Axes>"
      ]
     },
     "metadata": {
      "needs_background": "light"
     },
     "output_type": "display_data"
    }
   ],
   "source": [
    "# Do loop to find optimum number of neighbours\n",
    "scores = []\n",
    "for k in list(range(1, 50)):\n",
    "    KNN_model = KNeighborsClassifier(n_neighbors = k)\n",
    "    KNN_model.fit(train_data, train_labels)\n",
    "    scores.append(KNN_model.score(test_data, test_labels))\n",
    "    \n",
    "plt.plot(list(range(1, 50)), scores)\n",
    "plt.xlabel('Number of neighbours')\n",
    "plt.ylabel('Algorithm score')\n",
    "plt.title('The change in algorithm score as the number of neighbours was changed')"
   ]
  },
  {
   "cell_type": "code",
   "execution_count": 124,
   "id": "5ec428ae",
   "metadata": {},
   "outputs": [
    {
     "name": "stdout",
     "output_type": "stream",
     "text": [
      "              precision    recall  f1-score   support\n",
      "\n",
      "           0       0.88      0.71      0.79        31\n",
      "           1       0.75      0.90      0.82        30\n",
      "\n",
      "    accuracy                           0.80        61\n",
      "   macro avg       0.81      0.80      0.80        61\n",
      "weighted avg       0.82      0.80      0.80        61\n",
      "\n",
      "The score for the K nearest neighbours algorithm is 0.8032786885245902\n"
     ]
    }
   ],
   "source": [
    "# KNN_model with optimum neighbours\n",
    "KNN_model = KNeighborsClassifier(n_neighbors = 10) \n",
    "KNN_model.fit(train_data, train_labels)\n",
    "predictions = KNN_model.predict(test_data)\n",
    "print(classification_report(test_labels, predictions))\n",
    "print(f'The score for the K nearest neighbours algorithm is {KNN_model.score(test_data, test_labels)}')"
   ]
  },
  {
   "cell_type": "markdown",
   "id": "b1130f20",
   "metadata": {},
   "source": [
    "From this it was found that the optimal number of neighbours for the K nearest neighbours algorithm was 10 based on the sample size"
   ]
  },
  {
   "cell_type": "markdown",
   "id": "0c574537",
   "metadata": {},
   "source": [
    "Below a confusion matrix was constructed so that the accuracy of the model could be visualised on a heat map"
   ]
  },
  {
   "cell_type": "code",
   "execution_count": 125,
   "id": "58991e40",
   "metadata": {},
   "outputs": [
    {
     "data": {
      "image/png": "[encoded data removed]",
      "text/plain": [
       "<Figure size 720x504 with 2 Axes>"
      ]
     },
     "metadata": {
      "needs_background": "light"
     },
     "output_type": "display_data"
    }
   ],
   "source": [
    "test_predictions = KNN_model.predict(test_data)\n",
    "\n",
    "KNN_cm = confusion_matrix(test_labels, test_predictions)\n",
    "\n",
    "labels = KNN_model.classes_\n",
    "\n",
    "plt.figure(figsize=(10,7))\n",
    "\n",
    "ax = plt.subplot()\n",
    "\n",
    "sns.heatmap(KNN_cm, annot=True, ax=ax, fmt='d')\n",
    "\n",
    "ax.set_xlabel('Predicted labels')\n",
    "ax.set_ylabel('True labels')\n",
    "ax.set_title('Decision Tree Confusion Matrix For KNN model')\n",
    "\n",
    "ax.yaxis.set_tick_params(rotation=360)\n",
    "\n",
    "\n",
    "\n",
    "ax.set_xticklabels(['Heart Disease', 'No Heart Disease'])\n",
    "ax.set_yticklabels(['Heart Disease', 'No Heart Disease'])\n",
    "\n",
    "plt.show()"
   ]
  },
  {
   "cell_type": "markdown",
   "id": "9c233ca8",
   "metadata": {},
   "source": [
    "Due to the binary nature of the data this heat map is not a great visualisation but it shows how many pieces of data in the test set were correctly predicted."
   ]
  },
  {
   "cell_type": "markdown",
   "id": "b6d3d61f",
   "metadata": {},
   "source": [
    "**4.3 Decision Trees**"
   ]
  },
  {
   "cell_type": "code",
   "execution_count": 126,
   "id": "19c8fdfa",
   "metadata": {},
   "outputs": [
    {
     "name": "stdout",
     "output_type": "stream",
     "text": [
      "10\n",
      "              precision    recall  f1-score   support\n",
      "\n",
      "           0       0.68      0.61      0.64        31\n",
      "           1       0.64      0.70      0.67        30\n",
      "\n",
      "    accuracy                           0.66        61\n",
      "   macro avg       0.66      0.66      0.66        61\n",
      "weighted avg       0.66      0.66      0.66        61\n",
      "\n",
      "The score for the decision tree algorithm is 0.6557377049180327\n"
     ]
    }
   ],
   "source": [
    "# Decision Tree with fine tuned max_depth\n",
    "DT_model = DecisionTreeClassifier()\n",
    "DT_model.fit(train_data, train_labels)\n",
    "predictions = DT_model.predict(test_data)\n",
    "print(DT_model.get_depth()) # Get depth of DT model to see whether the model is suffering from overfitting \n",
    "# Max depth was tuned and it was found that when max depth was set as 3 that the accuracy of the model vastly improved from 65% (without a max depth setting) to 75%\n",
    "print(classification_report(test_labels, predictions))\n",
    "print(f'The score for the decision tree algorithm is {DT_model.score(test_data, test_labels)}')"
   ]
  },
  {
   "cell_type": "code",
   "execution_count": 128,
   "id": "ea836b53",
   "metadata": {
    "scrolled": true
   },
   "outputs": [
    {
     "name": "stdout",
     "output_type": "stream",
     "text": [
      "              precision    recall  f1-score   support\n",
      "\n",
      "           0       0.83      0.65      0.73        31\n",
      "           1       0.70      0.87      0.78        30\n",
      "\n",
      "    accuracy                           0.75        61\n",
      "   macro avg       0.77      0.76      0.75        61\n",
      "weighted avg       0.77      0.75      0.75        61\n",
      "\n",
      "The score for the decision tree algorithm is 0.7540983606557377\n"
     ]
    }
   ],
   "source": [
    "# Decision Tree with fine tuned max_depth\n",
    "DT_model = DecisionTreeClassifier(max_depth=3)\n",
    "DT_model.fit(train_data, train_labels)\n",
    "predictions = DT_model.predict(test_data)\n",
    "print(classification_report(test_labels, predictions))\n",
    "print(f'The score for the decision tree algorithm is {DT_model.score(test_data, test_labels)}')"
   ]
  },
  {
   "cell_type": "markdown",
   "id": "eeb35c0a",
   "metadata": {},
   "source": [
    "Max depth was tuned and it was found that when max depth was set as 3 that the accuracy of the model vastly improved from 65% (without a max depth setting) to 75%\n"
   ]
  },
  {
   "cell_type": "code",
   "execution_count": 129,
   "id": "b6299a1b",
   "metadata": {},
   "outputs": [
    {
     "data": {
      "image/png": "[encoded data removed]",
      "text/plain": [
       "<Figure size 720x504 with 2 Axes>"
      ]
     },
     "metadata": {
      "needs_background": "light"
     },
     "output_type": "display_data"
    }
   ],
   "source": [
    "test_predictions = DT_model.predict(test_data)\n",
    "\n",
    "DT_cm = confusion_matrix(test_labels, test_predictions)\n",
    "\n",
    "labels = DT_model.classes_\n",
    "\n",
    "plt.figure(figsize=(10,7))\n",
    "\n",
    "ax = plt.subplot()\n",
    "\n",
    "sns.heatmap(DT_cm, annot=True, ax=ax, fmt='d')\n",
    "\n",
    "ax.set_xlabel('Predicted labels')\n",
    "ax.set_ylabel('True labels')\n",
    "ax.set_title('Decision Tree Confusion Matrix For DT model')\n",
    "\n",
    "ax.yaxis.set_tick_params(rotation=360)\n",
    "\n",
    "ax.set_xticklabels(['Heart Disease', 'No Heart Disease'])\n",
    "ax.set_yticklabels(['Heart Disease', 'No Heart Disease'])\n",
    "\n",
    "plt.show()"
   ]
  },
  {
   "cell_type": "markdown",
   "id": "02e824aa",
   "metadata": {},
   "source": [
    "Due to the binary nature of the data this heat map is not a great visualisation but it shows how many pieces of data in the test set were correctly predicted."
   ]
  },
  {
   "cell_type": "markdown",
   "id": "88e1a359",
   "metadata": {},
   "source": [
    "**4.4 Random Forest**"
   ]
  },
  {
   "cell_type": "code",
   "execution_count": 105,
   "id": "9b098c34",
   "metadata": {},
   "outputs": [
    {
     "name": "stdout",
     "output_type": "stream",
     "text": [
      "              precision    recall  f1-score   support\n",
      "\n",
      "           0       0.77      0.74      0.75        31\n",
      "           1       0.74      0.77      0.75        30\n",
      "\n",
      "    accuracy                           0.75        61\n",
      "   macro avg       0.75      0.75      0.75        61\n",
      "weighted avg       0.75      0.75      0.75        61\n",
      "\n",
      "The score for the random forest algorithm is 0.7540983606557377\n"
     ]
    }
   ],
   "source": [
    "RF_model = RandomForestClassifier() # Could alter the n_estimators\n",
    "RF_model.fit(train_data, train_labels)\n",
    "predictions = RF_model.predict(test_data)\n",
    "print(classification_report(test_labels, predictions))\n",
    "print(f'The score for the random forest algorithm is {RF_model.score(test_data, test_labels)}')"
   ]
  },
  {
   "cell_type": "markdown",
   "id": "9ed4e466",
   "metadata": {},
   "source": [
    "It was found that increasing the number of estimators did not improve the accuracy of the model. Therefore, the number of estimators was left at the default of 100 as to not increase the computational time of the algorithm."
   ]
  },
  {
   "cell_type": "code",
   "execution_count": 119,
   "id": "e3145b64",
   "metadata": {},
   "outputs": [
    {
     "data": {
      "image/png": "[encoded data removed]",
      "text/plain": [
       "<Figure size 720x504 with 2 Axes>"
      ]
     },
     "metadata": {
      "needs_background": "light"
     },
     "output_type": "display_data"
    }
   ],
   "source": [
    "test_predictions = RF_model.predict(test_data)\n",
    "\n",
    "RF_cm = confusion_matrix(test_labels, test_predictions)\n",
    "\n",
    "labels = RF_model.classes_\n",
    "\n",
    "plt.figure(figsize=(10,7))\n",
    "\n",
    "ax = plt.subplot()\n",
    "\n",
    "sns.heatmap(RF_cm, annot=True, ax=ax, fmt='d')\n",
    "\n",
    "ax.set_xlabel('Predicted labels')\n",
    "ax.set_ylabel('True labels')\n",
    "ax.set_title('Decision Tree Confusion Matrix For RF model')\n",
    "\n",
    "ax.yaxis.set_tick_params(rotation=360)\n",
    "\n",
    "ax.set_xticklabels(['Heart Disease', 'No Heart Disease'])\n",
    "ax.set_yticklabels(['Heart Disease', 'No Heart Disease'])\n",
    "\n",
    "plt.show()"
   ]
  },
  {
   "cell_type": "markdown",
   "id": "fb0a78d7",
   "metadata": {},
   "source": [
    "Due to the binary nature of the data this heat map is not a great visualisation but it shows how many pieces of data in the test set were correctly predicted."
   ]
  },
  {
   "cell_type": "markdown",
   "id": "2cbe4b67",
   "metadata": {},
   "source": [
    "**5 KFold and Cross validation scoring**\n",
    "\n",
    "Cross validation was done to check the results of the model scorings"
   ]
  },
  {
   "cell_type": "markdown",
   "id": "13e74277",
   "metadata": {},
   "source": [
    "**5.1 Logistic Regression**"
   ]
  },
  {
   "cell_type": "code",
   "execution_count": 130,
   "id": "ee50ae2d",
   "metadata": {},
   "outputs": [
    {
     "name": "stdout",
     "output_type": "stream",
     "text": [
      "[0.66666667 0.875      0.79166667 0.77083333 0.77083333]\n",
      "Baseline: 77.50% (6.64%)\n"
     ]
    }
   ],
   "source": [
    "kfold = KFold(n_splits=5, shuffle=True, random_state=0)\n",
    "results = cross_val_score(LR_model, train_data, train_labels, cv=kfold, scoring='accuracy')\n",
    "\n",
    "print(results)\n",
    "print(\"Baseline: %.2f%% (%.2f%%)\" % (results.mean()*100, results.std()*100))"
   ]
  },
  {
   "cell_type": "markdown",
   "id": "a683835e",
   "metadata": {},
   "source": [
    "**5.2 K Nearest Neighbours**"
   ]
  },
  {
   "cell_type": "code",
   "execution_count": 131,
   "id": "7f2c6679",
   "metadata": {},
   "outputs": [
    {
     "name": "stdout",
     "output_type": "stream",
     "text": [
      "[0.70833333 0.875      0.83333333 0.79166667 0.8125    ]\n",
      "Baseline: 80.42% (5.53%)\n"
     ]
    }
   ],
   "source": [
    "kfold = KFold(n_splits=5, shuffle=True, random_state=0)\n",
    "results = cross_val_score(KNN_model, train_data, train_labels, cv=kfold, scoring='accuracy')\n",
    "\n",
    "print(results)\n",
    "print(\"Baseline: %.2f%% (%.2f%%)\" % (results.mean()*100, results.std()*100))"
   ]
  },
  {
   "cell_type": "markdown",
   "id": "ff80b45e",
   "metadata": {},
   "source": [
    "**5.3 Decision Tree**"
   ]
  },
  {
   "cell_type": "code",
   "execution_count": 132,
   "id": "04b5227a",
   "metadata": {},
   "outputs": [
    {
     "name": "stdout",
     "output_type": "stream",
     "text": [
      "[0.70833333 0.875      0.72916667 0.70833333 0.8125    ]\n",
      "Baseline: 76.67% (6.64%)\n"
     ]
    }
   ],
   "source": [
    "kfold = KFold(n_splits=5, shuffle=True, random_state=0)\n",
    "results = cross_val_score(DT_model, train_data, train_labels, cv=kfold, scoring='accuracy')\n",
    "\n",
    "print(results)\n",
    "print(\"Baseline: %.2f%% (%.2f%%)\" % (results.mean()*100, results.std()*100))"
   ]
  },
  {
   "cell_type": "markdown",
   "id": "5390f0cd",
   "metadata": {},
   "source": [
    "**5.4 Random Forest**"
   ]
  },
  {
   "cell_type": "code",
   "execution_count": 133,
   "id": "4c7d4fd2",
   "metadata": {},
   "outputs": [
    {
     "name": "stdout",
     "output_type": "stream",
     "text": [
      "[0.72916667 0.8125     0.8125     0.79166667 0.79166667]\n",
      "Baseline: 78.75% (3.06%)\n"
     ]
    }
   ],
   "source": [
    "kfold = KFold(n_splits=5, shuffle=True, random_state=0)\n",
    "results = cross_val_score(RF_model, train_data, train_labels, cv=kfold, scoring='accuracy')\n",
    "\n",
    "print(results)\n",
    "print(\"Baseline: %.2f%% (%.2f%%)\" % (results.mean()*100, results.std()*100))"
   ]
  },
  {
   "cell_type": "markdown",
   "id": "508a20bd",
   "metadata": {},
   "source": [
    "Through the cross validation scoring the algorithms the scores of each algorithm were found to be slightly higher than was previously found. This means that the algorithms were found to be slighly more accurate than was previously thought. However, the KNN model was still found to be the most accurate model out of the 4."
   ]
  },
  {
   "cell_type": "markdown",
   "id": "cf24bf23",
   "metadata": {},
   "source": [
    "**6 Conclusions**\n",
    "\n",
    "- Various relationships were found between different features in the datsets\n",
    "- It was found that the average values for age, resting blood pressure and serum cholestoral were higher for people with heart disease than those without heart disease, which is to be expected.\n",
    "- People with heart diease had a lower maximum heart rate than those without heart disease. This is because we are not taking into account the age, and the maximum heart rate that a person can achieve without several problems is relative to age, so the higher beats per minute correspond to younger people, thus they are less likely to have a heart disease.\n",
    "- Machine learning algorithms were implemented so that predictions could be made based on various feautures from the datasets. It was found that the K nearest neighbours algorithm fitted the data the most accurately, as shown through the score of the algorithm. However, all the algorithms fitted the data well, giving a good predictive score.\n",
    "- The K nearest neighbours algorithm was optimised to see what the optimum number of neighbours was. It was found that 10 neighbours was optimal.\n",
    "- Cross validation scoring was then carried out for all of the algorithms and it was found that the accuracy of the algorithms were slightly better than previously thought. However, the K nearest neighbour algorithm was still found to be the most accurate.\n",
    "- Overall it was decided that the KNN algorithm should be chosen for any future predictions.\n",
    "- In conclusion, I had fun doing this project!"
   ]
  },
  {
   "cell_type": "markdown",
   "id": "0b8631c7",
   "metadata": {},
   "source": [
    "**7 Further work**\n",
    "\n",
    "- The data could be further investigated to see if there are any other interesting correlations between features.\n",
    "- Further work could be done to improve this project such as further optimisation of the machine learning algorithms to find the best parameters for each.\n",
    "- Different features of the original dataset could be implemented for training and testing the algorithms to see how they would affect the scores of each.\n",
    "- Furthermore, different classification algorithms could be implemented to see if they would fit the data better, such as the support vector machine (SVM) algorithm."
   ]
  }
 ],
 "metadata": {
  "kernelspec": {
   "display_name": "Python 3",
   "language": "python",
   "name": "python3"
  },
  "language_info": {
   "codemirror_mode": {
    "name": "ipython",
    "version": 3
   },
   "file_extension": ".py",
   "mimetype": "text/x-python",
   "name": "python",
   "nbconvert_exporter": "python",
   "pygments_lexer": "ipython3",
   "version": "3.9.1"
  }
 },
 "nbformat": 4,
 "nbformat_minor": 5
}
